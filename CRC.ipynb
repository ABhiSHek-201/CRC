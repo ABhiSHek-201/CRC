{
 "cells": [
  {
   "cell_type": "markdown",
   "metadata": {},
   "source": [
    "# CRC Method"
   ]
  },
  {
   "cell_type": "code",
   "execution_count": null,
   "metadata": {},
   "outputs": [],
   "source": [
    " \n",
    "import random\n",
    "def xor(a, b):  \n",
    "    result = [] \n",
    "    for i in range(1, len(b)): \n",
    "        if a[i] == b[i]: \n",
    "            result.append('0') \n",
    "        else: \n",
    "            result.append('1') \n",
    "    return ''.join(result) \n",
    "\n",
    "def bin_div(divident, divisor): \n",
    "    a = len(divisor) \n",
    "    b = divident[0 : a] \n",
    "    while a < len(divident): \n",
    "        if b[0] == '1': \n",
    "            b = xor(divisor, b) + divident[a] \n",
    "        else: \n",
    "            b = xor('0'*a, b) + divident[a] \n",
    "        a += 1\n",
    "    if b[0] == '1': \n",
    "        b = xor(divisor, b) \n",
    "    else: \n",
    "        b = xor('0'*a, b) \n",
    "    return b\n",
    "def sender(data,key):\n",
    "    print(\"\\n\\t\\tSender Side\\nData Word=\"+data,end=\"\\n\")\n",
    "    print(\"Key=\"+key,end=\"\\n\")\n",
    "    n=len(key)\n",
    "    code=data+'0'*(n-1)\n",
    "    rem=bin_div(code,key)\n",
    "    print(\"Remainder=\",rem)\n",
    "    return (data+rem)\n",
    "def receiver(data,key):\n",
    "    print(\"\\n\\t\\tReceiver Side\")\n",
    "    ran=random.randint(0,2)\n",
    "#     ran=0                  #for corrupting bits at receiver end\n",
    "    if ran==0:\n",
    "        l=list(data)         \n",
    "        if l[len(l)-1]=='0': \n",
    "            l[len(l)-1]='1'\n",
    "        else:\n",
    "            l[len(l)-1]='0'\n",
    "        data=''.join(l)\n",
    "    print(\"Received CodeWord=\"+data,end=\"\\n\")\n",
    "    \n",
    "    n=len(key)\n",
    "    count=0\n",
    "    rem=bin_div(data,key)\n",
    "    print(\"Remainder=\",rem)\n",
    "    print(\"Checking...\")\n",
    "    for i in range (0,len(rem)):\n",
    "        if rem[i]==\"0\":\n",
    "            count+=1\n",
    "    if count==len(rem):\n",
    "        print(\"Data Accpeted\\nActual Data=\"+data[0:-(n-1)])\n",
    "    else:\n",
    "        print(\"Data Rejected\")\n",
    "data=input(\"Enter the Data to be in Sent (In binary form[0 or 1])=>\")\n",
    "key=input(\"Enter Key/Divisor=>\")\n",
    "data_sent=sender(data,key)\n",
    "print(\"Sent CodeWord=\"+data_sent)\n",
    "receiver(data_sent,key)"
   ]
  }
 ],
 "metadata": {
  "kernelspec": {
   "display_name": "Python 3",
   "language": "python",
   "name": "python3"
  },
  "language_info": {
   "codemirror_mode": {
    "name": "ipython",
    "version": 3
   },
   "file_extension": ".py",
   "mimetype": "text/x-python",
   "name": "python",
   "nbconvert_exporter": "python",
   "pygments_lexer": "ipython3",
   "version": "3.7.4"
  }
 },
 "nbformat": 4,
 "nbformat_minor": 2
}
